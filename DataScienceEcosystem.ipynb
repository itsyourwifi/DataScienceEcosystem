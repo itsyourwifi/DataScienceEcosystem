{
 "cells": [
  {
   "cell_type": "markdown",
   "id": "9d0a9a9d",
   "metadata": {},
   "source": [
    "# Data Science Tools and Ecosystem"
   ]
  },
  {
   "cell_type": "markdown",
   "id": "96e67bca",
   "metadata": {},
   "source": [
    "In this notebook, Data Science Tools and Ecosystem are summarized."
   ]
  },
  {
   "cell_type": "markdown",
   "id": "efd90f7a",
   "metadata": {},
   "source": [
    "**Objectives:**\n",
    "\n",
    "- List languages utilized in Data Science\n",
    "- List libaries utilized in Data Science\n",
    "- List development environment open source tools utilized in Data Science\n",
    "- List examples of arithmetic expressions\n"
   ]
  },
  {
   "cell_type": "markdown",
   "id": "f5fa6e01",
   "metadata": {},
   "source": [
    "Some of the popular languages that Data Scientists use are:\n",
    "\n",
    "1. SQL (Structured Query Language)\n",
    "2. Python\n",
    "3. R"
   ]
  },
  {
   "cell_type": "markdown",
   "id": "e2ffeb05",
   "metadata": {},
   "source": [
    "Some of the commonly used libraries used by Data Scientists include:\n",
    "\n",
    "1. Scientific Computing Libraries (contains numpy and pandas)\n",
    "2. Visualization Libraries (contains matplotlib and seaborn)\n",
    "3. Deep Learning Libraries (contains scikitlearn and tensorflow)"
   ]
  },
  {
   "cell_type": "markdown",
   "id": "6c4f238c",
   "metadata": {},
   "source": [
    "|Data Science Tools|\n",
    "-----------------------------\n",
    "Jupyter\n",
    "RStudio\n",
    "Git/GitHub"
   ]
  },
  {
   "cell_type": "markdown",
   "id": "99679d13",
   "metadata": {},
   "source": [
    "### Below are a few examples of evaluating arithmetic expressions in Python."
   ]
  },
  {
   "cell_type": "code",
   "execution_count": 4,
   "id": "90a7457e",
   "metadata": {},
   "outputs": [
    {
     "data": {
      "text/plain": [
       "17"
      ]
     },
     "execution_count": 4,
     "metadata": {},
     "output_type": "execute_result"
    }
   ],
   "source": [
    "# This is a simple arithmetic expression to multiply then add integers.\n",
    "(3 * 4) + 5"
   ]
  },
  {
   "cell_type": "code",
   "execution_count": 5,
   "id": "d59f318d",
   "metadata": {},
   "outputs": [
    {
     "data": {
      "text/plain": [
       "3.3333333333333335"
      ]
     },
     "execution_count": 5,
     "metadata": {},
     "output_type": "execute_result"
    }
   ],
   "source": [
    "# This will convert 200 minutes to hours by dividing by 60.\n",
    "200 / 60"
   ]
  },
  {
   "cell_type": "markdown",
   "id": "3e790acd",
   "metadata": {},
   "source": [
    "## Author\n",
    "Kaman Bipat"
   ]
  }
 ],
 "metadata": {
  "kernelspec": {
   "display_name": "Python 3 (ipykernel)",
   "language": "python",
   "name": "python3"
  },
  "language_info": {
   "codemirror_mode": {
    "name": "ipython",
    "version": 3
   },
   "file_extension": ".py",
   "mimetype": "text/x-python",
   "name": "python",
   "nbconvert_exporter": "python",
   "pygments_lexer": "ipython3",
   "version": "3.9.13"
  }
 },
 "nbformat": 4,
 "nbformat_minor": 5
}
